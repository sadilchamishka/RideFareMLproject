{
  "nbformat": 4,
  "nbformat_minor": 0,
  "metadata": {
    "colab": {
      "name": "XGBoost Model.ipynb",
      "provenance": [],
      "collapsed_sections": []
    },
    "kernelspec": {
      "name": "python3",
      "display_name": "Python 3"
    }
  },
  "cells": [
    {
      "cell_type": "code",
      "metadata": {
        "id": "-GR0zsQ3ocQJ",
        "colab_type": "code",
        "colab": {
          "base_uri": "https://localhost:8080/",
          "height": 120
        },
        "outputId": "02ba3990-8900-4df6-a860-2a391bf0569d"
      },
      "source": [
        "from sklearn.model_selection import train_test_split\n",
        "from sklearn.preprocessing import StandardScaler\n",
        "\n",
        "from sklearn.metrics import f1_score\n",
        "import pandas as pd\n",
        "import numpy as np\n",
        "from xgboost import XGBClassifier\n",
        "from numpy import cos, sin, arcsin, sqrt\n",
        "from math import radians\n",
        "\n",
        "from google.colab import drive\n",
        "drive.mount('/content/drive')"
      ],
      "execution_count": null,
      "outputs": [
        {
          "output_type": "stream",
          "text": [
            "Go to this URL in a browser: https://accounts.google.com/o/oauth2/auth?client_id=947318989803-6bn6qk8qdgf4n4g3pfee6491hc0brc4i.apps.googleusercontent.com&redirect_uri=urn%3aietf%3awg%3aoauth%3a2.0%3aoob&response_type=code&scope=email%20https%3a%2f%2fwww.googleapis.com%2fauth%2fdocs.test%20https%3a%2f%2fwww.googleapis.com%2fauth%2fdrive%20https%3a%2f%2fwww.googleapis.com%2fauth%2fdrive.photos.readonly%20https%3a%2f%2fwww.googleapis.com%2fauth%2fpeopleapi.readonly\n",
            "\n",
            "Enter your authorization code:\n",
            "··········\n",
            "Mounted at /content/drive\n"
          ],
          "name": "stdout"
        }
      ]
    },
    {
      "cell_type": "markdown",
      "metadata": {
        "id": "R9DNd9zaRCmo",
        "colab_type": "text"
      },
      "source": [
        "# New Feature Crosses\n"
      ]
    },
    {
      "cell_type": "code",
      "metadata": {
        "id": "-XJQ4c4Wsdxo",
        "colab_type": "code",
        "colab": {}
      },
      "source": [
        "def haversine(pick_lon,pick_lat,drop_lon,drop_lat):\n",
        "    lon1 = pick_lon\n",
        "    lat1 = pick_lat\n",
        "    lon2 =drop_lon\n",
        "    lat2 = drop_lat\n",
        "\n",
        "    lon1, lat1, lon2, lat2 = map(radians, [lon1, lat1, lon2, lat2])\n",
        "    dlon = lon2 - lon1\n",
        "    dlat = lat2 - lat1\n",
        "    a = sin(dlat/2)**2 + cos(lat1) * cos(lat2) * sin(dlon/2)**2\n",
        "    c = 2 * arcsin(sqrt(a))\n",
        "    km = 6367 * c\n",
        "\n",
        "    return km\n",
        "\n",
        "def calculateDistance(df):\n",
        "  distance_list = []\n",
        "  pick_lon = df['pick_lon'].values\n",
        "  pick_lat = df['pick_lat'].values\n",
        "  drop_lon = df['drop_lon'].values\n",
        "  drop_lat = df['drop_lat'].values\n",
        "\n",
        "  for i in range(len(pick_lon)):  \n",
        "    dist = haversine(pick_lon[i],pick_lat[i],drop_lon[i],drop_lat[i])\n",
        "    distance_list.append(dist)\n",
        "  df['distance'] = distance_list\n",
        "  return df\n",
        "\n",
        "def new_feature_cross(df):\n",
        "  fare_to_duration = []\n",
        "  distance_to_fare = []\n",
        "  distance_to_duration = []\n",
        "  waiting_fare_rate = []\n",
        "  pickup_time_bin = []\n",
        "\n",
        "  fare = df['fare'].values\n",
        "  duration = df['duration'].values\n",
        "  meter_waiting = df['meter_waiting'].values\n",
        "  meter_waiting_fare = df['meter_waiting_fare'].values\n",
        "  distance = df['distance'].values\n",
        "  pickup_time = df['pickup_time'].values\n",
        "\n",
        "  for i in range(len(fare)):\n",
        "    if fare[i]!=0:\n",
        "      fare_to_duration.append((duration[i]-meter_waiting[i])/fare[i])\n",
        "    else:\n",
        "      fare_to_duration.append((duration[i]-meter_waiting[i])/0.1)\n",
        "    \n",
        "    if distance[i]!=0:\n",
        "      distance_to_fare.append(fare[i]/distance[i])\n",
        "      distance_to_duration.append((duration[i]-meter_waiting[i])/distance[i])\n",
        "    else:\n",
        "      distance_to_fare.append(fare[i]/0.1)\n",
        "      distance_to_duration.append((duration[i]-meter_waiting[i])/0.1)\n",
        "  \n",
        "    if meter_waiting_fare[i]!=0 :\n",
        "      waiting_fare_rate.append(meter_waiting[i]/meter_waiting_fare[i])\n",
        "    else:\n",
        "      waiting_fare_rate.append(meter_waiting[i]/1)\n",
        "    \n",
        "    if int(pickup_time[i].split(\" \")[0].split(\"/\")[1]) in [1,10,12,16,17,18,19,21,22,26,27]:\n",
        "      pickup_time_bin.append(1)\n",
        "    else:\n",
        "      pickup_time_bin.append(0)\n",
        "    \n",
        "  df['fare_to_duration'] = fare_to_duration\n",
        "  df['distance_to_fare'] = distance_to_fare\n",
        "  df['distance_to_duration'] = distance_to_duration\n",
        "  df['waiting_fare_rate'] = waiting_fare_rate\n",
        "  df['pickup_time'] = pickup_time_bin\n",
        "\n",
        "  return df"
      ],
      "execution_count": null,
      "outputs": []
    },
    {
      "cell_type": "markdown",
      "metadata": {
        "id": "b0Yz2-0HR8Rd",
        "colab_type": "text"
      },
      "source": [
        "# Bais Feature Preprocessing"
      ]
    },
    {
      "cell_type": "markdown",
      "metadata": {
        "id": "V4YKuJZ0Rzbv",
        "colab_type": "text"
      },
      "source": [
        "Fill the missing figures of additional_fare column using median\n"
      ]
    },
    {
      "cell_type": "code",
      "metadata": {
        "id": "tXppneuUy0M_",
        "colab_type": "code",
        "colab": {}
      },
      "source": [
        "features_df = pd.read_csv('/content/drive/My Drive/MLproject/train.csv',index_col='tripid')\n",
        "features_df['additional_fare'] = features_df['additional_fare'].fillna(features_df['additional_fare'].median())\n",
        "features_df"
      ],
      "execution_count": null,
      "outputs": []
    },
    {
      "cell_type": "markdown",
      "metadata": {
        "id": "iDhIt3S3SHuO",
        "colab_type": "text"
      },
      "source": [
        "Insert missing figures using mean values of respective correct and incorrect data"
      ]
    },
    {
      "cell_type": "code",
      "metadata": {
        "id": "A2fNtEQugSeN",
        "colab_type": "code",
        "colab": {}
      },
      "source": [
        "correct = []\n",
        "incorrect = []\n",
        "\n",
        "features_df = pd.read_csv('/content/drive/My Drive/MLproject/train.csv',index_col='tripid')\n",
        "features_df['additional_fare'] = features_df['additional_fare'].fillna(features_df['additional_fare'].median())\n",
        "\n",
        "for i in features_df.values:\n",
        "  if i[-1]=='correct':\n",
        "    correct.append(i)\n",
        "  else:\n",
        "    incorrect.append(i)\n",
        "  \n",
        "correct = pd.DataFrame(correct,columns=features_df.columns)\n",
        "incorrect = pd.DataFrame(incorrect,columns=features_df.columns)\n",
        "\n",
        "correct = correct.fillna(correct.mean())\n",
        "incorrect = incorrect.fillna(incorrect.mean())\n",
        "features_df = pd.concat([correct,incorrect])\n",
        "\n",
        "label_df = features_df['label']\n",
        "#del features_df['label']\n",
        "features_df = calculateDistance(features_df)\n",
        "features_df = new_feature_cross(features_df)"
      ],
      "execution_count": null,
      "outputs": []
    },
    {
      "cell_type": "code",
      "metadata": {
        "id": "jDNJzwdHrLK0",
        "colab_type": "code",
        "colab": {}
      },
      "source": [
        "features_df = features_df[['additional_fare','duration','meter_waiting_fare',\t'meter_waiting', 'fare','distance','meter_waiting_till_pickup','fare_to_duration','distance_to_fare','distance_to_duration','waiting_fare_rate','pickup_time']]\n",
        "X_train, X_eval, y_train, y_eval = train_test_split(features_df,label_df,test_size=0.33,shuffle=True,stratify=label_df,random_state=6)"
      ],
      "execution_count": null,
      "outputs": []
    },
    {
      "cell_type": "markdown",
      "metadata": {
        "id": "0SIn5arXSQob",
        "colab_type": "text"
      },
      "source": [
        "# Model creation and Evaluation"
      ]
    },
    {
      "cell_type": "code",
      "metadata": {
        "id": "iWlXLTXc2Cnm",
        "colab_type": "code",
        "colab": {
          "base_uri": "https://localhost:8080/",
          "height": 33
        },
        "outputId": "d5ffe1f7-e660-4493-a8ea-524552ffb3e4"
      },
      "source": [
        "# define model\n",
        "model = XGBClassifier()              \n",
        "model.fit(X_train,y_train)\n",
        "prediction = model.predict(X_eval)\n",
        "\n",
        "f1_score(y_eval, prediction, average='macro')"
      ],
      "execution_count": null,
      "outputs": [
        {
          "output_type": "execute_result",
          "data": {
            "text/plain": [
              "0.8579503150057274"
            ]
          },
          "metadata": {
            "tags": []
          },
          "execution_count": 157
        }
      ]
    },
    {
      "cell_type": "code",
      "metadata": {
        "id": "wA-7PYVdg1ke",
        "colab_type": "code",
        "colab": {
          "base_uri": "https://localhost:8080/",
          "height": 33
        },
        "outputId": "23b25224-133a-4314-ece3-933fe059e78d"
      },
      "source": [
        "# define model\n",
        "model = XGBClassifier(n_estimators=200,base_score=0.1)              \n",
        "model.fit(X_train,y_train)\n",
        "prediction = model.predict(X_eval)\n",
        "\n",
        "f1_score(y_eval, prediction, average='macro')"
      ],
      "execution_count": null,
      "outputs": [
        {
          "output_type": "execute_result",
          "data": {
            "text/plain": [
              "0.8711826755869999"
            ]
          },
          "metadata": {
            "tags": []
          },
          "execution_count": 158
        }
      ]
    },
    {
      "cell_type": "code",
      "metadata": {
        "id": "XCzd3X-e45yV",
        "colab_type": "code",
        "colab": {
          "base_uri": "https://localhost:8080/",
          "height": 50
        },
        "outputId": "800a6089-6ddb-4a63-e63e-224b0db3aa21"
      },
      "source": [
        "from sklearn.metrics import confusion_matrix\n",
        "\n",
        "confusion_matrix(y_eval,prediction)"
      ],
      "execution_count": null,
      "outputs": [
        {
          "output_type": "execute_result",
          "data": {
            "text/plain": [
              "array([[5057,   57],\n",
              "       [ 176,  379]])"
            ]
          },
          "metadata": {
            "tags": []
          },
          "execution_count": 145
        }
      ]
    },
    {
      "cell_type": "markdown",
      "metadata": {
        "id": "mJ1HuK5nSbpH",
        "colab_type": "text"
      },
      "source": [
        "# Predictions for Test data"
      ]
    },
    {
      "cell_type": "code",
      "metadata": {
        "id": "4xYIQ_tQI8YU",
        "colab_type": "code",
        "colab": {
          "base_uri": "https://localhost:8080/",
          "height": 51
        },
        "outputId": "edea0b98-6033-40b1-da94-480f6a18ea67"
      },
      "source": [
        "model.fit(features_df,label_df)\n",
        "\n",
        "test_df = pd.read_csv('/content/drive/My Drive/MLproject/test.csv',index_col='tripid')\n",
        "\n",
        "test_df = calculateDistance(test_df)\n",
        "test_df = new_feature_cross(test_df)\n",
        "\n",
        "test_df = test_df[['additional_fare','duration','meter_waiting_fare',\t'meter_waiting', 'fare','distance','meter_waiting_till_pickup','fare_to_duration','distance_to_fare','distance_to_duration','waiting_fare_rate']]\n",
        "prediction = model.predict(test_df)\n",
        "prediction"
      ],
      "execution_count": null,
      "outputs": [
        {
          "output_type": "execute_result",
          "data": {
            "text/plain": [
              "array(['correct', 'correct', 'correct', ..., 'correct', 'correct',\n",
              "       'correct'], dtype=object)"
            ]
          },
          "metadata": {
            "tags": []
          },
          "execution_count": 153
        }
      ]
    },
    {
      "cell_type": "code",
      "metadata": {
        "id": "HF-qHkddfQyF",
        "colab_type": "code",
        "colab": {}
      },
      "source": [
        "result = []\n",
        "for i in prediction:\n",
        "  if i=='correct':\n",
        "    result.append(1)\n",
        "  else:\n",
        "    result.append(0)\n",
        "\n",
        "submission_df = pd.read_csv('/content/drive/My Drive/MLproject/sample_submission.csv')\n",
        "submission_df['prediction'] = result\n",
        "submission_df.to_csv('/content/drive/My Drive/MLproject/new_xgboost003.csv',index=False)"
      ],
      "execution_count": null,
      "outputs": []
    }
  ]
}