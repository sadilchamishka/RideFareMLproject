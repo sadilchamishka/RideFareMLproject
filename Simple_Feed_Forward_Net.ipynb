{
  "nbformat": 4,
  "nbformat_minor": 0,
  "metadata": {
    "colab": {
      "name": "Simple_Feed_Forward_Net.ipynb",
      "provenance": [],
      "toc_visible": true
    },
    "kernelspec": {
      "name": "python3",
      "display_name": "Python 3"
    }
  },
  "cells": [
    {
      "cell_type": "code",
      "metadata": {
        "id": "6Yluix2fNyc6",
        "colab_type": "code",
        "colab": {
          "base_uri": "https://localhost:8080/",
          "height": 120
        },
        "outputId": "a718d01e-8413-4825-c7cb-b1d022ad01bf"
      },
      "source": [
        "from sklearn.preprocessing import StandardScaler\n",
        "from sklearn.model_selection import train_test_split\n",
        "from sklearn.metrics import roc_curve, roc_auc_score\n",
        "from xgboost import XGBClassifier\n",
        "from sklearn.metrics import f1_score\n",
        "from sklearn.metrics import roc_curve, roc_auc_score\n",
        "\n",
        "from google.colab import drive\n",
        "drive.mount('/content/drive')"
      ],
      "execution_count": 1,
      "outputs": [
        {
          "output_type": "stream",
          "text": [
            "Go to this URL in a browser: https://accounts.google.com/o/oauth2/auth?client_id=947318989803-6bn6qk8qdgf4n4g3pfee6491hc0brc4i.apps.googleusercontent.com&redirect_uri=urn%3aietf%3awg%3aoauth%3a2.0%3aoob&response_type=code&scope=email%20https%3a%2f%2fwww.googleapis.com%2fauth%2fdocs.test%20https%3a%2f%2fwww.googleapis.com%2fauth%2fdrive%20https%3a%2f%2fwww.googleapis.com%2fauth%2fdrive.photos.readonly%20https%3a%2f%2fwww.googleapis.com%2fauth%2fpeopleapi.readonly\n",
            "\n",
            "Enter your authorization code:\n",
            "··········\n",
            "Mounted at /content/drive\n"
          ],
          "name": "stdout"
        }
      ]
    },
    {
      "cell_type": "code",
      "metadata": {
        "id": "2OG46qOmN__B",
        "colab_type": "code",
        "colab": {
          "base_uri": "https://localhost:8080/",
          "height": 421
        },
        "outputId": "56493de9-fa95-45e9-9980-8a0289a05b95"
      },
      "source": [
        "import pandas as pd\n",
        "\n",
        "features_df = pd.read_csv('/content/drive/My Drive/MLproject/train.csv',index_col='tripid')\n",
        "features_df = features_df.dropna()\n",
        "features_df"
      ],
      "execution_count": 2,
      "outputs": [
        {
          "output_type": "execute_result",
          "data": {
            "text/html": [
              "<div>\n",
              "<style scoped>\n",
              "    .dataframe tbody tr th:only-of-type {\n",
              "        vertical-align: middle;\n",
              "    }\n",
              "\n",
              "    .dataframe tbody tr th {\n",
              "        vertical-align: top;\n",
              "    }\n",
              "\n",
              "    .dataframe thead th {\n",
              "        text-align: right;\n",
              "    }\n",
              "</style>\n",
              "<table border=\"1\" class=\"dataframe\">\n",
              "  <thead>\n",
              "    <tr style=\"text-align: right;\">\n",
              "      <th></th>\n",
              "      <th>additional_fare</th>\n",
              "      <th>duration</th>\n",
              "      <th>meter_waiting</th>\n",
              "      <th>meter_waiting_fare</th>\n",
              "      <th>meter_waiting_till_pickup</th>\n",
              "      <th>pickup_time</th>\n",
              "      <th>drop_time</th>\n",
              "      <th>pick_lat</th>\n",
              "      <th>pick_lon</th>\n",
              "      <th>drop_lat</th>\n",
              "      <th>drop_lon</th>\n",
              "      <th>fare</th>\n",
              "      <th>label</th>\n",
              "    </tr>\n",
              "    <tr>\n",
              "      <th>tripid</th>\n",
              "      <th></th>\n",
              "      <th></th>\n",
              "      <th></th>\n",
              "      <th></th>\n",
              "      <th></th>\n",
              "      <th></th>\n",
              "      <th></th>\n",
              "      <th></th>\n",
              "      <th></th>\n",
              "      <th></th>\n",
              "      <th></th>\n",
              "      <th></th>\n",
              "      <th></th>\n",
              "    </tr>\n",
              "  </thead>\n",
              "  <tbody>\n",
              "    <tr>\n",
              "      <th>189123628</th>\n",
              "      <td>10.5</td>\n",
              "      <td>834.0</td>\n",
              "      <td>56.0</td>\n",
              "      <td>0.0000</td>\n",
              "      <td>64.0</td>\n",
              "      <td>11/1/2019 0:20</td>\n",
              "      <td>11/1/2019 0:34</td>\n",
              "      <td>6.86252</td>\n",
              "      <td>79.8993</td>\n",
              "      <td>6.90330</td>\n",
              "      <td>79.8783</td>\n",
              "      <td>270.32</td>\n",
              "      <td>correct</td>\n",
              "    </tr>\n",
              "    <tr>\n",
              "      <th>189125358</th>\n",
              "      <td>10.5</td>\n",
              "      <td>791.0</td>\n",
              "      <td>47.0</td>\n",
              "      <td>0.0000</td>\n",
              "      <td>134.0</td>\n",
              "      <td>11/1/2019 0:56</td>\n",
              "      <td>11/1/2019 1:09</td>\n",
              "      <td>6.88589</td>\n",
              "      <td>79.8984</td>\n",
              "      <td>6.91373</td>\n",
              "      <td>79.8923</td>\n",
              "      <td>197.85</td>\n",
              "      <td>correct</td>\n",
              "    </tr>\n",
              "    <tr>\n",
              "      <th>189125719</th>\n",
              "      <td>10.5</td>\n",
              "      <td>1087.0</td>\n",
              "      <td>80.0</td>\n",
              "      <td>0.0000</td>\n",
              "      <td>61.0</td>\n",
              "      <td>11/1/2019 1:08</td>\n",
              "      <td>11/1/2019 1:26</td>\n",
              "      <td>6.90839</td>\n",
              "      <td>79.8651</td>\n",
              "      <td>6.93669</td>\n",
              "      <td>79.9146</td>\n",
              "      <td>301.64</td>\n",
              "      <td>correct</td>\n",
              "    </tr>\n",
              "    <tr>\n",
              "      <th>189127273</th>\n",
              "      <td>10.5</td>\n",
              "      <td>598.0</td>\n",
              "      <td>271.0</td>\n",
              "      <td>15.6638</td>\n",
              "      <td>68.0</td>\n",
              "      <td>11/1/2019 2:27</td>\n",
              "      <td>11/1/2019 2:37</td>\n",
              "      <td>6.92570</td>\n",
              "      <td>79.8895</td>\n",
              "      <td>6.92748</td>\n",
              "      <td>79.8971</td>\n",
              "      <td>82.30</td>\n",
              "      <td>correct</td>\n",
              "    </tr>\n",
              "    <tr>\n",
              "      <th>189129552</th>\n",
              "      <td>10.5</td>\n",
              "      <td>3407.0</td>\n",
              "      <td>182.0</td>\n",
              "      <td>0.0000</td>\n",
              "      <td>112.0</td>\n",
              "      <td>11/1/2019 5:38</td>\n",
              "      <td>11/1/2019 6:35</td>\n",
              "      <td>7.13402</td>\n",
              "      <td>79.8969</td>\n",
              "      <td>6.91865</td>\n",
              "      <td>79.8649</td>\n",
              "      <td>1065.02</td>\n",
              "      <td>correct</td>\n",
              "    </tr>\n",
              "    <tr>\n",
              "      <th>...</th>\n",
              "      <td>...</td>\n",
              "      <td>...</td>\n",
              "      <td>...</td>\n",
              "      <td>...</td>\n",
              "      <td>...</td>\n",
              "      <td>...</td>\n",
              "      <td>...</td>\n",
              "      <td>...</td>\n",
              "      <td>...</td>\n",
              "      <td>...</td>\n",
              "      <td>...</td>\n",
              "      <td>...</td>\n",
              "      <td>...</td>\n",
              "    </tr>\n",
              "    <tr>\n",
              "      <th>213803193</th>\n",
              "      <td>10.5</td>\n",
              "      <td>838.0</td>\n",
              "      <td>93.0</td>\n",
              "      <td>5.4219</td>\n",
              "      <td>451.0</td>\n",
              "      <td>1/31/2020 22:07</td>\n",
              "      <td>1/31/2020 22:21</td>\n",
              "      <td>7.29073</td>\n",
              "      <td>80.6367</td>\n",
              "      <td>7.28891</td>\n",
              "      <td>80.6557</td>\n",
              "      <td>198.26</td>\n",
              "      <td>correct</td>\n",
              "    </tr>\n",
              "    <tr>\n",
              "      <th>213812756</th>\n",
              "      <td>10.5</td>\n",
              "      <td>2151.0</td>\n",
              "      <td>428.0</td>\n",
              "      <td>0.0000</td>\n",
              "      <td>39.0</td>\n",
              "      <td>1/31/2020 23:07</td>\n",
              "      <td>1/31/2020 23:43</td>\n",
              "      <td>6.90569</td>\n",
              "      <td>79.8516</td>\n",
              "      <td>6.95089</td>\n",
              "      <td>79.9389</td>\n",
              "      <td>581.23</td>\n",
              "      <td>correct</td>\n",
              "    </tr>\n",
              "    <tr>\n",
              "      <th>213813930</th>\n",
              "      <td>10.5</td>\n",
              "      <td>263.0</td>\n",
              "      <td>9.0</td>\n",
              "      <td>0.0000</td>\n",
              "      <td>110.0</td>\n",
              "      <td>1/31/2020 23:21</td>\n",
              "      <td>1/31/2020 23:25</td>\n",
              "      <td>7.09210</td>\n",
              "      <td>79.9000</td>\n",
              "      <td>7.10135</td>\n",
              "      <td>79.9017</td>\n",
              "      <td>76.20</td>\n",
              "      <td>correct</td>\n",
              "    </tr>\n",
              "    <tr>\n",
              "      <th>213815405</th>\n",
              "      <td>10.5</td>\n",
              "      <td>858.0</td>\n",
              "      <td>115.0</td>\n",
              "      <td>0.0000</td>\n",
              "      <td>317.0</td>\n",
              "      <td>1/31/2020 23:39</td>\n",
              "      <td>1/31/2020 23:53</td>\n",
              "      <td>6.94540</td>\n",
              "      <td>79.8768</td>\n",
              "      <td>6.93574</td>\n",
              "      <td>79.9010</td>\n",
              "      <td>133.31</td>\n",
              "      <td>correct</td>\n",
              "    </tr>\n",
              "    <tr>\n",
              "      <th>213817296</th>\n",
              "      <td>10.5</td>\n",
              "      <td>262.0</td>\n",
              "      <td>21.0</td>\n",
              "      <td>1.2243</td>\n",
              "      <td>23.0</td>\n",
              "      <td>1/31/2020 23:49</td>\n",
              "      <td>1/31/2020 23:53</td>\n",
              "      <td>6.90257</td>\n",
              "      <td>79.9557</td>\n",
              "      <td>6.90823</td>\n",
              "      <td>79.9374</td>\n",
              "      <td>98.57</td>\n",
              "      <td>correct</td>\n",
              "    </tr>\n",
              "  </tbody>\n",
              "</table>\n",
              "<p>16968 rows × 13 columns</p>\n",
              "</div>"
            ],
            "text/plain": [
              "           additional_fare  duration  meter_waiting  ...  drop_lon     fare    label\n",
              "tripid                                               ...                            \n",
              "189123628             10.5     834.0           56.0  ...   79.8783   270.32  correct\n",
              "189125358             10.5     791.0           47.0  ...   79.8923   197.85  correct\n",
              "189125719             10.5    1087.0           80.0  ...   79.9146   301.64  correct\n",
              "189127273             10.5     598.0          271.0  ...   79.8971    82.30  correct\n",
              "189129552             10.5    3407.0          182.0  ...   79.8649  1065.02  correct\n",
              "...                    ...       ...            ...  ...       ...      ...      ...\n",
              "213803193             10.5     838.0           93.0  ...   80.6557   198.26  correct\n",
              "213812756             10.5    2151.0          428.0  ...   79.9389   581.23  correct\n",
              "213813930             10.5     263.0            9.0  ...   79.9017    76.20  correct\n",
              "213815405             10.5     858.0          115.0  ...   79.9010   133.31  correct\n",
              "213817296             10.5     262.0           21.0  ...   79.9374    98.57  correct\n",
              "\n",
              "[16968 rows x 13 columns]"
            ]
          },
          "metadata": {
            "tags": []
          },
          "execution_count": 2
        }
      ]
    },
    {
      "cell_type": "markdown",
      "metadata": {
        "id": "kHfC0hGgIO68",
        "colab_type": "text"
      },
      "source": [
        "# Basic Preprocessing\n"
      ]
    },
    {
      "cell_type": "code",
      "metadata": {
        "id": "ThmEEeT9OMCZ",
        "colab_type": "code",
        "colab": {}
      },
      "source": [
        "features_df['label'] = features_df['label'].replace(\"correct\", 1)\n",
        "features_df['label'] = features_df['label'].replace(\"incorrect\", 0)\n",
        "\n",
        "del features_df['pickup_time']\n",
        "del features_df['drop_time']\n",
        "label_df = features_df['label']\n",
        "del features_df['label']"
      ],
      "execution_count": 3,
      "outputs": []
    },
    {
      "cell_type": "code",
      "metadata": {
        "id": "fh4oErXLOm7Y",
        "colab_type": "code",
        "colab": {}
      },
      "source": [
        "X_train, X_eval, y_train, y_eval = train_test_split(features_df,label_df,test_size=0.2,shuffle=True,stratify=label_df,random_state=6)\n",
        "\n",
        "scaler = StandardScaler()\n",
        "scaler.fit(X_train)\n",
        "X_train = scaler.transform(X_train)\n",
        "X_eval = scaler.transform(X_eval)"
      ],
      "execution_count": 4,
      "outputs": []
    },
    {
      "cell_type": "markdown",
      "metadata": {
        "id": "Si5Q-chGI62O",
        "colab_type": "text"
      },
      "source": [
        "# Model Setup\n"
      ]
    },
    {
      "cell_type": "code",
      "metadata": {
        "id": "Q-5b_I0VOm_Q",
        "colab_type": "code",
        "colab": {}
      },
      "source": [
        "import numpy as np\n",
        "from keras.models import Sequential,Model\n",
        "from keras.layers import Dense,Activation,Dropout\n",
        "from tensorflow.keras import regularizers\n",
        "                    \n",
        "model = Sequential()\n",
        "model.add(Dense(128, input_dim=10,activation=\"relu\"))\n",
        "model.add(Dropout(0.5))\n",
        "model.add(Dense(64, activation=\"relu\",kernel_regularizer=regularizers.l2()))\n",
        "model.add(Dropout(0.5))\n",
        "model.add(Dense(32, activation=\"relu\"))\n",
        "model.add(Dropout(0.5))\n",
        "model.add(Dense(1))\n",
        "model.add(Activation(\"sigmoid\"))\n",
        "\n",
        "model.compile(loss='binary_crossentropy',optimizer='adam',metrics=['accuracy'])   "
      ],
      "execution_count": 14,
      "outputs": []
    },
    {
      "cell_type": "code",
      "metadata": {
        "id": "Na-1v0n9Px47",
        "colab_type": "code",
        "colab": {
          "base_uri": "https://localhost:8080/",
          "height": 1000
        },
        "outputId": "b91477d3-9102-4512-864c-3783f9f1631d"
      },
      "source": [
        "history = model.fit(X_train, y_train, epochs=60, batch_size=32, verbose=1, validation_data=(X_eval, y_eval))"
      ],
      "execution_count": 15,
      "outputs": [
        {
          "output_type": "stream",
          "text": [
            "Train on 13574 samples, validate on 3394 samples\n",
            "Epoch 1/60\n",
            "13574/13574 [==============================] - 1s 67us/step - loss: 0.5634 - accuracy: 0.9078 - val_loss: 0.3309 - val_accuracy: 0.9116\n",
            "Epoch 2/60\n",
            "13574/13574 [==============================] - 1s 53us/step - loss: 0.3236 - accuracy: 0.9105 - val_loss: 0.2953 - val_accuracy: 0.9113\n",
            "Epoch 3/60\n",
            "13574/13574 [==============================] - 1s 52us/step - loss: 0.2965 - accuracy: 0.9120 - val_loss: 0.2803 - val_accuracy: 0.9140\n",
            "Epoch 4/60\n",
            "13574/13574 [==============================] - 1s 53us/step - loss: 0.2838 - accuracy: 0.9133 - val_loss: 0.2720 - val_accuracy: 0.9169\n",
            "Epoch 5/60\n",
            "13574/13574 [==============================] - 1s 55us/step - loss: 0.2745 - accuracy: 0.9143 - val_loss: 0.2629 - val_accuracy: 0.9196\n",
            "Epoch 6/60\n",
            "13574/13574 [==============================] - 1s 52us/step - loss: 0.2655 - accuracy: 0.9171 - val_loss: 0.2493 - val_accuracy: 0.9231\n",
            "Epoch 7/60\n",
            "13574/13574 [==============================] - 1s 54us/step - loss: 0.2566 - accuracy: 0.9213 - val_loss: 0.2422 - val_accuracy: 0.9263\n",
            "Epoch 8/60\n",
            "13574/13574 [==============================] - 1s 53us/step - loss: 0.2452 - accuracy: 0.9248 - val_loss: 0.2345 - val_accuracy: 0.9305\n",
            "Epoch 9/60\n",
            "13574/13574 [==============================] - 1s 60us/step - loss: 0.2396 - accuracy: 0.9299 - val_loss: 0.2259 - val_accuracy: 0.9346\n",
            "Epoch 10/60\n",
            "13574/13574 [==============================] - 1s 56us/step - loss: 0.2319 - accuracy: 0.9333 - val_loss: 0.2147 - val_accuracy: 0.9390\n",
            "Epoch 11/60\n",
            "13574/13574 [==============================] - 1s 54us/step - loss: 0.2291 - accuracy: 0.9340 - val_loss: 0.2193 - val_accuracy: 0.9364\n",
            "Epoch 12/60\n",
            "13574/13574 [==============================] - 1s 59us/step - loss: 0.2198 - accuracy: 0.9368 - val_loss: 0.2126 - val_accuracy: 0.9414\n",
            "Epoch 13/60\n",
            "13574/13574 [==============================] - 1s 55us/step - loss: 0.2211 - accuracy: 0.9382 - val_loss: 0.2072 - val_accuracy: 0.9405\n",
            "Epoch 14/60\n",
            "13574/13574 [==============================] - 1s 57us/step - loss: 0.2154 - accuracy: 0.9391 - val_loss: 0.2106 - val_accuracy: 0.9387\n",
            "Epoch 15/60\n",
            "13574/13574 [==============================] - 1s 57us/step - loss: 0.2169 - accuracy: 0.9391 - val_loss: 0.2031 - val_accuracy: 0.9434\n",
            "Epoch 16/60\n",
            "13574/13574 [==============================] - 1s 53us/step - loss: 0.2061 - accuracy: 0.9432 - val_loss: 0.2012 - val_accuracy: 0.9449\n",
            "Epoch 17/60\n",
            "13574/13574 [==============================] - 1s 55us/step - loss: 0.2047 - accuracy: 0.9413 - val_loss: 0.1983 - val_accuracy: 0.9452\n",
            "Epoch 18/60\n",
            "13574/13574 [==============================] - 1s 53us/step - loss: 0.2043 - accuracy: 0.9421 - val_loss: 0.1992 - val_accuracy: 0.9449\n",
            "Epoch 19/60\n",
            "13574/13574 [==============================] - 1s 56us/step - loss: 0.2036 - accuracy: 0.9433 - val_loss: 0.1947 - val_accuracy: 0.9446\n",
            "Epoch 20/60\n",
            "13574/13574 [==============================] - 1s 52us/step - loss: 0.2032 - accuracy: 0.9437 - val_loss: 0.1954 - val_accuracy: 0.9423\n",
            "Epoch 21/60\n",
            "13574/13574 [==============================] - 1s 52us/step - loss: 0.2044 - accuracy: 0.9420 - val_loss: 0.1957 - val_accuracy: 0.9420\n",
            "Epoch 22/60\n",
            "13574/13574 [==============================] - 1s 53us/step - loss: 0.2047 - accuracy: 0.9422 - val_loss: 0.1936 - val_accuracy: 0.9461\n",
            "Epoch 23/60\n",
            "13574/13574 [==============================] - 1s 60us/step - loss: 0.1993 - accuracy: 0.9438 - val_loss: 0.1939 - val_accuracy: 0.9420\n",
            "Epoch 24/60\n",
            "13574/13574 [==============================] - 1s 54us/step - loss: 0.1969 - accuracy: 0.9438 - val_loss: 0.1879 - val_accuracy: 0.9455\n",
            "Epoch 25/60\n",
            "13574/13574 [==============================] - 1s 54us/step - loss: 0.1979 - accuracy: 0.9451 - val_loss: 0.1966 - val_accuracy: 0.9449\n",
            "Epoch 26/60\n",
            "13574/13574 [==============================] - 1s 56us/step - loss: 0.1930 - accuracy: 0.9467 - val_loss: 0.1886 - val_accuracy: 0.9437\n",
            "Epoch 27/60\n",
            "13574/13574 [==============================] - 1s 55us/step - loss: 0.2007 - accuracy: 0.9443 - val_loss: 0.1894 - val_accuracy: 0.9467\n",
            "Epoch 28/60\n",
            "13574/13574 [==============================] - 1s 55us/step - loss: 0.1951 - accuracy: 0.9451 - val_loss: 0.2012 - val_accuracy: 0.9446\n",
            "Epoch 29/60\n",
            "13574/13574 [==============================] - 1s 54us/step - loss: 0.1951 - accuracy: 0.9452 - val_loss: 0.1904 - val_accuracy: 0.9455\n",
            "Epoch 30/60\n",
            "13574/13574 [==============================] - 1s 54us/step - loss: 0.1913 - accuracy: 0.9473 - val_loss: 0.1877 - val_accuracy: 0.9452\n",
            "Epoch 31/60\n",
            "13574/13574 [==============================] - 1s 57us/step - loss: 0.1951 - accuracy: 0.9460 - val_loss: 0.1853 - val_accuracy: 0.9458\n",
            "Epoch 32/60\n",
            "13574/13574 [==============================] - 1s 54us/step - loss: 0.1942 - accuracy: 0.9455 - val_loss: 0.1917 - val_accuracy: 0.9414\n",
            "Epoch 33/60\n",
            "13574/13574 [==============================] - 1s 54us/step - loss: 0.1963 - accuracy: 0.9442 - val_loss: 0.2032 - val_accuracy: 0.9420\n",
            "Epoch 34/60\n",
            "13574/13574 [==============================] - 1s 57us/step - loss: 0.1997 - accuracy: 0.9440 - val_loss: 0.1944 - val_accuracy: 0.9420\n",
            "Epoch 35/60\n",
            "13574/13574 [==============================] - 1s 56us/step - loss: 0.1938 - accuracy: 0.9461 - val_loss: 0.1923 - val_accuracy: 0.9452\n",
            "Epoch 36/60\n",
            "13574/13574 [==============================] - 1s 63us/step - loss: 0.1927 - accuracy: 0.9466 - val_loss: 0.1932 - val_accuracy: 0.9446\n",
            "Epoch 37/60\n",
            "13574/13574 [==============================] - 1s 55us/step - loss: 0.1920 - accuracy: 0.9471 - val_loss: 0.1964 - val_accuracy: 0.9425\n",
            "Epoch 38/60\n",
            "13574/13574 [==============================] - 1s 63us/step - loss: 0.1887 - accuracy: 0.9456 - val_loss: 0.1868 - val_accuracy: 0.9443\n",
            "Epoch 39/60\n",
            "13574/13574 [==============================] - 1s 55us/step - loss: 0.1899 - accuracy: 0.9467 - val_loss: 0.1854 - val_accuracy: 0.9440\n",
            "Epoch 40/60\n",
            "13574/13574 [==============================] - 1s 56us/step - loss: 0.1912 - accuracy: 0.9470 - val_loss: 0.1893 - val_accuracy: 0.9446\n",
            "Epoch 41/60\n",
            "13574/13574 [==============================] - 1s 56us/step - loss: 0.1946 - accuracy: 0.9455 - val_loss: 0.1979 - val_accuracy: 0.9364\n",
            "Epoch 42/60\n",
            "13574/13574 [==============================] - 1s 55us/step - loss: 0.1863 - accuracy: 0.9462 - val_loss: 0.1848 - val_accuracy: 0.9455\n",
            "Epoch 43/60\n",
            "13574/13574 [==============================] - 1s 57us/step - loss: 0.1909 - accuracy: 0.9461 - val_loss: 0.1807 - val_accuracy: 0.9434\n",
            "Epoch 44/60\n",
            "13574/13574 [==============================] - 1s 57us/step - loss: 0.1897 - accuracy: 0.9454 - val_loss: 0.1866 - val_accuracy: 0.9431\n",
            "Epoch 45/60\n",
            "13574/13574 [==============================] - 1s 55us/step - loss: 0.1907 - accuracy: 0.9463 - val_loss: 0.1886 - val_accuracy: 0.9437\n",
            "Epoch 46/60\n",
            "13574/13574 [==============================] - 1s 65us/step - loss: 0.1920 - accuracy: 0.9470 - val_loss: 0.1811 - val_accuracy: 0.9467\n",
            "Epoch 47/60\n",
            "13574/13574 [==============================] - 1s 55us/step - loss: 0.1968 - accuracy: 0.9461 - val_loss: 0.1850 - val_accuracy: 0.9437\n",
            "Epoch 48/60\n",
            "13574/13574 [==============================] - 1s 55us/step - loss: 0.1869 - accuracy: 0.9448 - val_loss: 0.1856 - val_accuracy: 0.9446\n",
            "Epoch 49/60\n",
            "13574/13574 [==============================] - 1s 55us/step - loss: 0.1867 - accuracy: 0.9464 - val_loss: 0.1872 - val_accuracy: 0.9446\n",
            "Epoch 50/60\n",
            "13574/13574 [==============================] - 1s 60us/step - loss: 0.1875 - accuracy: 0.9465 - val_loss: 0.1895 - val_accuracy: 0.9434\n",
            "Epoch 51/60\n",
            "13574/13574 [==============================] - 1s 55us/step - loss: 0.1872 - accuracy: 0.9471 - val_loss: 0.1867 - val_accuracy: 0.9443\n",
            "Epoch 52/60\n",
            "13574/13574 [==============================] - 1s 55us/step - loss: 0.1889 - accuracy: 0.9461 - val_loss: 0.1821 - val_accuracy: 0.9440\n",
            "Epoch 53/60\n",
            "13574/13574 [==============================] - 1s 57us/step - loss: 0.1850 - accuracy: 0.9474 - val_loss: 0.1914 - val_accuracy: 0.9446\n",
            "Epoch 54/60\n",
            "13574/13574 [==============================] - 1s 65us/step - loss: 0.1885 - accuracy: 0.9459 - val_loss: 0.1831 - val_accuracy: 0.9461\n",
            "Epoch 55/60\n",
            "13574/13574 [==============================] - 1s 55us/step - loss: 0.1898 - accuracy: 0.9476 - val_loss: 0.1890 - val_accuracy: 0.9411\n",
            "Epoch 56/60\n",
            "13574/13574 [==============================] - 1s 59us/step - loss: 0.1857 - accuracy: 0.9469 - val_loss: 0.1857 - val_accuracy: 0.9425\n",
            "Epoch 57/60\n",
            "13574/13574 [==============================] - 1s 56us/step - loss: 0.1845 - accuracy: 0.9463 - val_loss: 0.1926 - val_accuracy: 0.9431\n",
            "Epoch 58/60\n",
            "13574/13574 [==============================] - 1s 58us/step - loss: 0.1905 - accuracy: 0.9470 - val_loss: 0.1923 - val_accuracy: 0.9443\n",
            "Epoch 59/60\n",
            "13574/13574 [==============================] - 1s 55us/step - loss: 0.1878 - accuracy: 0.9464 - val_loss: 0.1902 - val_accuracy: 0.9417\n",
            "Epoch 60/60\n",
            "13574/13574 [==============================] - 1s 54us/step - loss: 0.1904 - accuracy: 0.9453 - val_loss: 0.1891 - val_accuracy: 0.9434\n"
          ],
          "name": "stdout"
        }
      ]
    },
    {
      "cell_type": "code",
      "metadata": {
        "id": "ZCXv779sP5hh",
        "colab_type": "code",
        "colab": {
          "base_uri": "https://localhost:8080/",
          "height": 572
        },
        "outputId": "07e5a46f-1a03-48ff-ec56-868e0cbd365a"
      },
      "source": [
        "import matplotlib.pyplot as plt\n",
        "\n",
        "plt.plot(history.history['loss'])\n",
        "plt.plot(history.history['val_loss'])\n",
        "plt.title('model loss')\n",
        "plt.ylabel('loss')\n",
        "plt.xlabel('epoch')\n",
        "plt.legend(['train', 'validation'], loc='upper right')\n",
        "plt.show()\n",
        "\n",
        "# Visualize accuracy (mean squared error)\n",
        "plt.plot(history.history['accuracy'])\n",
        "plt.plot(history.history['val_accuracy'])\n",
        "plt.title('model accuracy')\n",
        "plt.ylabel('accuracy')\n",
        "plt.xlabel('epoch')\n",
        "plt.legend(['train', 'validation'], loc='upper right')\n",
        "plt.show()"
      ],
      "execution_count": 11,
      "outputs": [
        {
          "output_type": "display_data",
          "data": {
            "image/png": "[encoded data removed]",
            "text/plain": [
              "<Figure size 432x288 with 1 Axes>"
            ]
          },
          "metadata": {
            "tags": [],
            "needs_background": "light"
          }
        },
        {
          "output_type": "display_data",
          "data": {
            "image/png": "[encoded data removed]",
            "text/plain": [
              "<Figure size 432x288 with 1 Axes>"
            ]
          },
          "metadata": {
            "tags": [],
            "needs_background": "light"
          }
        }
      ]
    },
    {
      "cell_type": "markdown",
      "metadata": {
        "id": "DyS1x1pfJCPz",
        "colab_type": "text"
      },
      "source": [
        "# Model Evaluation\n"
      ]
    },
    {
      "cell_type": "code",
      "metadata": {
        "id": "FnbB0Jl_QCnw",
        "colab_type": "code",
        "colab": {
          "base_uri": "https://localhost:8080/",
          "height": 34
        },
        "outputId": "f56b544f-9d34-443c-9f3c-0044063222f2"
      },
      "source": [
        "prediction = model.predict_classes(X_eval)\n",
        "f1_score(y_eval, prediction, average='macro')"
      ],
      "execution_count": null,
      "outputs": [
        {
          "output_type": "execute_result",
          "data": {
            "text/plain": [
              "0.8317574146224513"
            ]
          },
          "metadata": {
            "tags": []
          },
          "execution_count": 22
        }
      ]
    },
    {
      "cell_type": "code",
      "metadata": {
        "id": "n75UPSkZRXnH",
        "colab_type": "code",
        "colab": {
          "base_uri": "https://localhost:8080/",
          "height": 51
        },
        "outputId": "41e847fd-f5d5-4acf-ae97-5ba09435361f"
      },
      "source": [
        "from sklearn.metrics import confusion_matrix\n",
        "\n",
        "confusion_matrix(y_eval,prediction)"
      ],
      "execution_count": null,
      "outputs": [
        {
          "output_type": "execute_result",
          "data": {
            "text/plain": [
              "array([[ 176,  129],\n",
              "       [  30, 3059]])"
            ]
          },
          "metadata": {
            "tags": []
          },
          "execution_count": 24
        }
      ]
    },
    {
      "cell_type": "code",
      "metadata": {
        "id": "MtTbdXkjl2CU",
        "colab_type": "code",
        "colab": {}
      },
      "source": [
        "from keras.models import load_model\n",
        " \n",
        "# load model\n",
        "model = load_model('/content/drive/My Drive/MLproject/model3.h5')"
      ],
      "execution_count": null,
      "outputs": []
    },
    {
      "cell_type": "markdown",
      "metadata": {
        "id": "ht-cw3jKJdC2",
        "colab_type": "text"
      },
      "source": [
        "# Predictions for Test data\n"
      ]
    },
    {
      "cell_type": "code",
      "metadata": {
        "id": "0REvgGovSD8a",
        "colab_type": "code",
        "colab": {}
      },
      "source": [
        "test_df = pd.read_csv('/content/drive/My Drive/MLproject/test.csv')\n",
        "\n",
        "del test_df['drop_time']\n",
        "del test_df['pickup_time']\n",
        "del test_df['tripid']"
      ],
      "execution_count": null,
      "outputs": []
    },
    {
      "cell_type": "code",
      "metadata": {
        "id": "1KDdqkXMSQZB",
        "colab_type": "code",
        "colab": {}
      },
      "source": [
        "X_test = scaler.transform(test_df)\n",
        "predictions = model.predict_classes(X_test)\n",
        "\n",
        "submission_df = pd.read_csv('/content/drive/My Drive/MLproject/sample_submission.csv')\n",
        "submission_df['prediction'] = predictions\n",
        "submission_df.to_csv('/content/drive/My Drive/MLproject/my_submission_xg_boost.csv',index=False)"
      ],
      "execution_count": null,
      "outputs": []
    },
    {
      "cell_type": "markdown",
      "metadata": {
        "id": "cONjyVEuMPWQ",
        "colab_type": "text"
      },
      "source": [
        ""
      ]
    }
  ]
}